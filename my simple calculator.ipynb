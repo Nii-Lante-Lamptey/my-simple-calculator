{
 "cells": [
  {
   "cell_type": "code",
   "execution_count": 1,
   "metadata": {},
   "outputs": [
    {
     "name": "stdout",
     "output_type": "stream",
     "text": [
      "Hellloo\n"
     ]
    }
   ],
   "source": [
    "print('Hellloo')"
   ]
  },
  {
   "cell_type": "code",
   "execution_count": 4,
   "metadata": {},
   "outputs": [],
   "source": [
    "# a simple calculator\n",
    "def simple_calculator():\n",
    "    print('Welcome to my python calculator program!')\n",
    "    num1= float(input('input num1: '))\n",
    "    num2= float(input('input num2: '))\n",
    "    print('Enter a for addition')\n",
    "    print('Enter b for subtraction')\n",
    "    print('Enter c for multiplication')\n",
    "    print('Enter d for division')\n",
    "    operation= input('input operation: ').lower()\n",
    "    \n",
    "    if operation == 'a':\n",
    "        answer = num1 + num2\n",
    "    elif operation == 'b':\n",
    "        answer = num1 - num2\n",
    "    elif operation == 'c':\n",
    "        answer = num1 * num2\n",
    "    elif operation == 'd':\n",
    "        if num2 == 0:\n",
    "            print(\"Cannot divide by zero\")\n",
    "            return\n",
    "        else:\n",
    "            answer = num1 / num2\n",
    "    else:\n",
    "        print(\"Invalid operation\")\n",
    "        return\n",
    "    \n",
    "    print(f\"The answer is: {answer}\")\n",
    "    \n",
    "\n",
    "\n",
    "\n"
   ]
  },
  {
   "cell_type": "code",
   "execution_count": 5,
   "metadata": {},
   "outputs": [
    {
     "name": "stdout",
     "output_type": "stream",
     "text": [
      "Welcome to my python calculator program!\n",
      "input num1: 1\n",
      "input num2: 2\n",
      "Enter a for addition\n",
      "Enter b for subtraction\n",
      "Enter c for multiplication\n",
      "Enter d for division\n",
      "input operation: c\n",
      "The answer is: 2.0\n"
     ]
    }
   ],
   "source": [
    "simple_calculator()"
   ]
  },
  {
   "cell_type": "code",
   "execution_count": null,
   "metadata": {},
   "outputs": [],
   "source": []
  },
  {
   "cell_type": "code",
   "execution_count": null,
   "metadata": {},
   "outputs": [],
   "source": []
  }
 ],
 "metadata": {
  "kernelspec": {
   "display_name": "Python 3",
   "language": "python",
   "name": "python3"
  },
  "language_info": {
   "codemirror_mode": {
    "name": "ipython",
    "version": 3
   },
   "file_extension": ".py",
   "mimetype": "text/x-python",
   "name": "python",
   "nbconvert_exporter": "python",
   "pygments_lexer": "ipython3",
   "version": "3.8.3"
  }
 },
 "nbformat": 4,
 "nbformat_minor": 4
}
